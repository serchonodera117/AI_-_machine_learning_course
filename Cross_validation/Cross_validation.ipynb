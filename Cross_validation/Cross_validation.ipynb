{
  "nbformat": 4,
  "nbformat_minor": 0,
  "metadata": {
    "colab": {
      "provenance": []
    },
    "kernelspec": {
      "name": "python3",
      "display_name": "Python 3"
    },
    "language_info": {
      "name": "python"
    }
  },
  "cells": [
    {
      "cell_type": "code",
      "execution_count": 11,
      "metadata": {
        "colab": {
          "base_uri": "https://localhost:8080/"
        },
        "id": "iM4brKNgbl8i",
        "outputId": "d9d914cf-2ee3-4ea2-f1dc-a139aef30c1b"
      },
      "outputs": [
        {
          "output_type": "stream",
          "name": "stdout",
          "text": [
            "0.97\n",
            "0.76\n"
          ]
        }
      ],
      "source": [
        "import pandas as pd\n",
        "from sklearn.ensemble import RandomForestClassifier\n",
        "from sklearn.model_selection import cross_val_score\n",
        "\n",
        "#used technique: random forest clasifier\n",
        "people = pd.read_csv(\"salario.csv\")\n",
        "\n",
        "myForest = RandomForestClassifier()\n",
        "myForest.fit(people[[\"edad\", \"estudio\"]].values,\n",
        "             people[\"ingreso\"].values)\n",
        "\n",
        "print(myForest.score(people[[\"edad\", \"estudio\"]].values, people[\"ingreso\"].values))\n",
        "\n",
        "print(cross_val_score(myForest, people[[\"edad\", \"estudio\"]].values,\n",
        "                                               people[\"ingreso\"].values,\n",
        "                                               cv = 5).mean())"
      ]
    }
  ]
}