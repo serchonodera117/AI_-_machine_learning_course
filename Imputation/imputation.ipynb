{
  "nbformat": 4,
  "nbformat_minor": 0,
  "metadata": {
    "colab": {
      "provenance": []
    },
    "kernelspec": {
      "name": "python3",
      "display_name": "Python 3"
    },
    "language_info": {
      "name": "python"
    }
  },
  "cells": [
    {
      "cell_type": "code",
      "execution_count": 15,
      "metadata": {
        "colab": {
          "base_uri": "https://localhost:8080/"
        },
        "id": "GBBEyut1p8CS",
        "outputId": "e3c9c7d4-1147-402c-c9cf-616aaf05f336"
      },
      "outputs": [
        {
          "output_type": "stream",
          "name": "stdout",
          "text": [
            "18000.0 17200.0 15800.0\n",
            "        nombre  edad  ingreso\n",
            "0         Juan  35.0  15800.0\n",
            "1        Luisa  25.0  17000.0\n",
            "2  Desconocido  70.0  20000.0\n",
            "3       Carmen  49.0  22000.0\n",
            "4  Desconocido  18.0  17200.0\n",
            "5        Mario  30.0  15800.0\n",
            "6        pedro  18.0  17400.0\n",
            "7      Gustavo  27.0  17200.0\n",
            "8       Carlos  18.0  17200.0\n"
          ]
        }
      ],
      "source": [
        "import pandas as pd\n",
        "myData = pd.read_csv(\"clients.csv\")\n",
        "#all value\n",
        "#print(myData[\"nombre\"])\n",
        "#onlyData null\n",
        "#print(myData[myData[\"nombre\"].isnull()])\n",
        "\n",
        "# delete data null\n",
        "#print(myData.dropna())\n",
        "\n",
        "\n",
        "# print(myData.dropna(subset=[\"nombre\",\"ingreso\"]))\n",
        "\n",
        "#replace na\n",
        "#print(myData.fillna(0))\n",
        "\n",
        "#edit name\n",
        "# print(myData[\"nombre\"].fillna(\"Desconocido\"))\n",
        "\n",
        "def edit_multiple_cols():\n",
        "  #edit multiple cols\n",
        "  defect_values = {\n",
        "      \"nombre\": \"Desconocido\",\n",
        "      \"edad\": 18,\n",
        "      \"ingreso\": 10000\n",
        "  }\n",
        "\n",
        "  print(myData.fillna(value=defect_values))\n",
        "\n",
        "def edit_multiple_cols_with_special_data():\n",
        "\n",
        "  #edit multiple cols with specific values\n",
        "  #those measires are used to replace null data inside dataframes\n",
        "  #to set it with more logic and quantity for models\n",
        "\n",
        "  average  = myData[\"ingreso\"].mean()\n",
        "  mymedian = myData[\"ingreso\"].median()\n",
        "  moda = myData[\"ingreso\"].mode()[0]\n",
        "\n",
        "  defect_values = {\n",
        "      \"nombre\": \"Desconocido\",\n",
        "      \"edad\": 18,\n",
        "      \"ingreso\": mymedian\n",
        "  }\n",
        "  print(average,mymedian,moda)\n",
        "  print(myData.fillna(value=defect_values))\n",
        "\n",
        "edit_multiple_cols_with_special_data()"
      ]
    }
  ]
}