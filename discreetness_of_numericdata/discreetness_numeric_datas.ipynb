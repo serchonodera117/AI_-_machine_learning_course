{
  "nbformat": 4,
  "nbformat_minor": 0,
  "metadata": {
    "colab": {
      "provenance": []
    },
    "kernelspec": {
      "name": "python3",
      "display_name": "Python 3"
    },
    "language_info": {
      "name": "python"
    }
  },
  "cells": [
    {
      "cell_type": "code",
      "execution_count": 9,
      "metadata": {
        "colab": {
          "base_uri": "https://localhost:8080/"
        },
        "id": "eH1_WmCQXVR4",
        "outputId": "5cc93b8b-3b25-4362-a9e3-ba64c3f8eb61"
      },
      "outputs": [
        {
          "output_type": "stream",
          "name": "stdout",
          "text": [
            "[  0.901  34.     67.    100.   ] \n",
            "\n",
            "[0 0 0 0 0 0 1 1 1 2 2 2] \n",
            "\n",
            "Index(['low', 'media', 'high'], dtype='object') \n",
            "\n",
            "['low' 'low' 'low' 'low' 'low' 'low' 'media' 'media' 'media' 'high' 'high'\n",
            " 'high'] \n",
            "\n"
          ]
        }
      ],
      "source": [
        "import numpy as np\n",
        "import pandas as pd\n",
        "\n",
        "ages = np.array([1,7,8,15,16,28,35,50,55,70,75,100])\n",
        "\n",
        "result = pd.cut(ages,\n",
        "                bins=3,\n",
        "                labels=[\"low\", \"media\", \"high\"],\n",
        "                include_lowest=True,\n",
        "                retbins=True)\n",
        "\n",
        "print(result[1], \"\\n\")\n",
        "print(result[0].codes, \"\\n\")\n",
        "print(result[0].categories, \"\\n\")\n",
        "print(np.array(result[0]), \"\\n\")"
      ]
    },
    {
      "cell_type": "code",
      "source": [
        "#cathegorize for ages with diferent sizes\n",
        "\n",
        "ages = np.array([1,7,8,15,16,28,35,50,55,70,75,100])\n",
        "\n",
        "result = pd.cut(ages,\n",
        "                bins=[0, 11, 17, 59, np.inf],  #------------------adding ranges\n",
        "                labels=[\"child\", \"young\", \"adult\", \"old\"],\n",
        "                include_lowest=True,\n",
        "                retbins=True)\n",
        "\n",
        "print(result[1], \"\\n\")\n",
        "print(result[0].codes, \"\\n\")\n",
        "print(result[0].categories, \"\\n\")\n",
        "print(np.array(result[0]), \"\\n\")"
      ],
      "metadata": {
        "colab": {
          "base_uri": "https://localhost:8080/"
        },
        "id": "pzsHHVo4ZTW7",
        "outputId": "081ea2a0-4014-401f-88c1-befb072af93a"
      },
      "execution_count": 11,
      "outputs": [
        {
          "output_type": "stream",
          "name": "stdout",
          "text": [
            "[ 0. 11. 17. 59. inf] \n",
            "\n",
            "[0 0 0 1 1 2 2 2 2 3 3 3] \n",
            "\n",
            "Index(['child', 'young', 'adult', 'old'], dtype='object') \n",
            "\n",
            "['child' 'child' 'child' 'young' 'young' 'adult' 'adult' 'adult' 'adult'\n",
            " 'old' 'old' 'old'] \n",
            "\n"
          ]
        }
      ]
    }
  ]
}